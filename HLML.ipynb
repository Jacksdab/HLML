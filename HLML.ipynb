{
  "nbformat": 4,
  "nbformat_minor": 0,
  "metadata": {
    "colab": {
      "provenance": []
    },
    "kernelspec": {
      "name": "python3",
      "display_name": "Python 3"
    },
    "language_info": {
      "name": "python"
    }
  },
  "cells": [
    {
      "cell_type": "markdown",
      "source": [
        "### Data loading and preparation"
      ],
      "metadata": {
        "id": "aEtP-Vu85YC2"
      }
    },
    {
      "cell_type": "code",
      "source": [
        "%matplotlib inline\n",
        "import torch\n",
        "import numpy as np\n",
        "import matplotlib.pyplot as plt\n",
        "import torchvision\n",
        "import torchvision.transforms as transforms"
      ],
      "metadata": {
        "id": "h6IJUHUBPCAX"
      },
      "execution_count": 9,
      "outputs": []
    },
    {
      "cell_type": "markdown",
      "source": [
        "Load and prepare MNIST\n"
      ],
      "metadata": {
        "id": "rPKC8igtVKH1"
      }
    },
    {
      "cell_type": "code",
      "source": [
        "transform = transforms.Compose(\n",
        "    [transforms.ToTensor(),\n",
        "     transforms.Normalize((0.5,), (0.5,))]\n",
        ")\n",
        "\n",
        "batch_size = 4\n",
        "\n",
        "trainset = torchvision.datasets.MNIST(root='./data', train=True,\n",
        "                                        download=True, transform=transform)\n",
        "trainloader = torch.utils.data.DataLoader(trainset, batch_size=batch_size,\n",
        "                                          shuffle=True, num_workers=2)\n",
        "\n",
        "\n"
      ],
      "metadata": {
        "colab": {
          "base_uri": "https://localhost:8080/"
        },
        "id": "EL2jqGmyVNZc",
        "outputId": "7692da60-168e-452f-b31b-647658a978a9"
      },
      "execution_count": 2,
      "outputs": [
        {
          "output_type": "stream",
          "name": "stdout",
          "text": [
            "Downloading http://yann.lecun.com/exdb/mnist/train-images-idx3-ubyte.gz\n",
            "Downloading http://yann.lecun.com/exdb/mnist/train-images-idx3-ubyte.gz to ./data/MNIST/raw/train-images-idx3-ubyte.gz\n"
          ]
        },
        {
          "output_type": "stream",
          "name": "stderr",
          "text": [
            "100%|██████████| 9912422/9912422 [00:00<00:00, 123306397.42it/s]\n"
          ]
        },
        {
          "output_type": "stream",
          "name": "stdout",
          "text": [
            "Extracting ./data/MNIST/raw/train-images-idx3-ubyte.gz to ./data/MNIST/raw\n",
            "\n",
            "Downloading http://yann.lecun.com/exdb/mnist/train-labels-idx1-ubyte.gz\n",
            "Downloading http://yann.lecun.com/exdb/mnist/train-labels-idx1-ubyte.gz to ./data/MNIST/raw/train-labels-idx1-ubyte.gz\n"
          ]
        },
        {
          "output_type": "stream",
          "name": "stderr",
          "text": [
            "100%|██████████| 28881/28881 [00:00<00:00, 73282331.41it/s]\n"
          ]
        },
        {
          "output_type": "stream",
          "name": "stdout",
          "text": [
            "Extracting ./data/MNIST/raw/train-labels-idx1-ubyte.gz to ./data/MNIST/raw\n",
            "\n",
            "Downloading http://yann.lecun.com/exdb/mnist/t10k-images-idx3-ubyte.gz\n",
            "Downloading http://yann.lecun.com/exdb/mnist/t10k-images-idx3-ubyte.gz to ./data/MNIST/raw/t10k-images-idx3-ubyte.gz\n"
          ]
        },
        {
          "output_type": "stream",
          "name": "stderr",
          "text": [
            "100%|██████████| 1648877/1648877 [00:00<00:00, 35267706.27it/s]"
          ]
        },
        {
          "output_type": "stream",
          "name": "stdout",
          "text": [
            "Extracting ./data/MNIST/raw/t10k-images-idx3-ubyte.gz to ./data/MNIST/raw"
          ]
        },
        {
          "output_type": "stream",
          "name": "stderr",
          "text": [
            "\n"
          ]
        },
        {
          "output_type": "stream",
          "name": "stdout",
          "text": [
            "\n",
            "\n",
            "Downloading http://yann.lecun.com/exdb/mnist/t10k-labels-idx1-ubyte.gz\n",
            "Downloading http://yann.lecun.com/exdb/mnist/t10k-labels-idx1-ubyte.gz to ./data/MNIST/raw/t10k-labels-idx1-ubyte.gz\n"
          ]
        },
        {
          "output_type": "stream",
          "name": "stderr",
          "text": [
            "100%|██████████| 4542/4542 [00:00<00:00, 12582912.00it/s]\n"
          ]
        },
        {
          "output_type": "stream",
          "name": "stdout",
          "text": [
            "Extracting ./data/MNIST/raw/t10k-labels-idx1-ubyte.gz to ./data/MNIST/raw\n",
            "\n"
          ]
        }
      ]
    },
    {
      "cell_type": "markdown",
      "source": [
        "Visualize some images\n"
      ],
      "metadata": {
        "id": "faXrKwULispy"
      }
    },
    {
      "cell_type": "code",
      "source": [
        "def imshow(img):\n",
        "  img = img / 2 + 0.5\n",
        "  npimg = img.numpy()\n",
        "  plt.imshow(np.transpose(npimg, (1, 2, 0)))\n",
        "  plt.show()\n",
        "\n",
        "# get some random training images\n",
        "dataiter = iter(trainloader)\n",
        "images, labels = next(dataiter)\n",
        "\n",
        "# show images\n",
        "imshow(torchvision.utils.make_grid(images))\n",
        "# print labels\n",
        "print(' '.join(f'{labels[j]}' for j in range(batch_size)))"
      ],
      "metadata": {
        "colab": {
          "base_uri": "https://localhost:8080/",
          "height": 212
        },
        "id": "f9NPeolAi1Fk",
        "outputId": "4862ee47-e193-4c9b-ea3e-a09059635662"
      },
      "execution_count": null,
      "outputs": [
        {
          "output_type": "display_data",
          "data": {
            "text/plain": [
              "<Figure size 640x480 with 1 Axes>"
            ],
            "image/png": "[encoded data removed]"
          },
          "metadata": {}
        },
        {
          "output_type": "stream",
          "name": "stdout",
          "text": [
            "9 1 2 7\n"
          ]
        }
      ]
    },
    {
      "cell_type": "markdown",
      "source": [
        "###Create Annotation Matrix\n",
        "\n",
        "We create annotation matrix for each labeler L. Each labeler L will have simulated labels with dimension [num_instances] where each entry is the produced (simulated) label. Hence, the simulated labels of all labelers will be of size [L , num_instances]. Additionally, we can specify the number of spammer, noise level and the label that the spammers collectively give.\n"
      ],
      "metadata": {
        "id": "3dQEQOX7m7Cq"
      }
    },
    {
      "cell_type": "code",
      "source": [
        "def simulate_labels_per_labeler(true_labels, num_labelers, num_spammers, spammer_label = 1, noise_level = 0.1):\n",
        "  num_instances = len(true_labels)\n",
        "\n",
        "  simulated_labels = np.zeros((num_labelers, num_instances), dtype = np.int)\n",
        "\n",
        "  if num_spammers > 0:\n",
        "    spammer_labels = np.full((num_spammers,num_instances), spammer_label, dtype=np.int)\n",
        "    # print(simulated_labels[:num_spammers, :].shape)\n",
        "    # print(spammer_labels.shape)\n",
        "    simulated_labels[:num_spammers, :] = spammer_labels\n",
        "  for l in range(num_spammers, num_labelers):\n",
        "    for i in range(num_instances):\n",
        "      # Simulate labeling decision based on true label\n",
        "      if np.random.rand() < noise_level:\n",
        "           # Introduce noise\n",
        "           simulated_labels[l, i] = np.random.choice(np.delete(np.arange(10),\n",
        "                                                                    true_labels[i]))\n",
        "      else:\n",
        "          # Label agrees with true label\n",
        "          simulated_labels[l, i] = true_labels[i]\n",
        "  return simulated_labels\n",
        "\n",
        "def calculate_percentage_difference(simulated_labels, true_labels):\n",
        "    # Create a binary matrix indicating differences for each labeler\n",
        "    different_entries = (simulated_labels != true_labels).astype(int)\n",
        "\n",
        "    # Calculate the percentage of different values for each labeler\n",
        "    percentage_difference = np.mean(different_entries) * 100.0\n",
        "\n",
        "    return different_entries, percentage_difference\n",
        "\n",
        "\n"
      ],
      "metadata": {
        "id": "rnx9RcS5tKl5"
      },
      "execution_count": 3,
      "outputs": []
    },
    {
      "cell_type": "code",
      "source": [
        "np.random.seed(42)\n",
        "torch.manual_seed(42)\n",
        "\n",
        "# Assuming you want a subset of the data\n",
        "mnist_labels = trainset.targets.numpy()\n",
        "\n",
        "\n",
        "subset_size = 1000\n",
        "indices = np.random.choice(len(mnist_labels), size=subset_size, replace=False)\n",
        "true_labels = mnist_labels[indices]\n",
        "\n",
        "num_labelers = 5\n",
        "num_spammers = 3\n",
        "num_instances = len(true_labels)\n",
        "simulated_labels = simulate_labels_per_labeler(true_labels, num_labelers, num_spammers)\n",
        "\n",
        "print(simulated_labels)\n"
      ],
      "metadata": {
        "colab": {
          "base_uri": "https://localhost:8080/"
        },
        "id": "OqkK8e-NWiVp",
        "outputId": "c207e8a9-c3c1-438a-bc00-2bd6c3393e07"
      },
      "execution_count": 11,
      "outputs": [
        {
          "output_type": "stream",
          "name": "stdout",
          "text": [
            "[[1 1 1 ... 1 1 1]\n",
            " [1 1 1 ... 1 1 1]\n",
            " [1 1 1 ... 1 1 1]\n",
            " [7 6 8 ... 6 6 2]\n",
            " [7 3 8 ... 6 8 2]]\n"
          ]
        },
        {
          "output_type": "stream",
          "name": "stderr",
          "text": [
            "<ipython-input-3-9d2265317d98>:4: DeprecationWarning: `np.int` is a deprecated alias for the builtin `int`. To silence this warning, use `int` by itself. Doing this will not modify any behavior and is safe. When replacing `np.int`, you may wish to use e.g. `np.int64` or `np.int32` to specify the precision. If you wish to review your current use, check the release note link for additional information.\n",
            "Deprecated in NumPy 1.20; for more details and guidance: https://numpy.org/devdocs/release/1.20.0-notes.html#deprecations\n",
            "  simulated_labels = np.zeros((num_labelers, num_instances), dtype = np.int)\n",
            "<ipython-input-3-9d2265317d98>:7: DeprecationWarning: `np.int` is a deprecated alias for the builtin `int`. To silence this warning, use `int` by itself. Doing this will not modify any behavior and is safe. When replacing `np.int`, you may wish to use e.g. `np.int64` or `np.int32` to specify the precision. If you wish to review your current use, check the release note link for additional information.\n",
            "Deprecated in NumPy 1.20; for more details and guidance: https://numpy.org/devdocs/release/1.20.0-notes.html#deprecations\n",
            "  spammer_labels = np.full((num_spammers,num_instances), spammer_label, dtype=np.int)\n"
          ]
        }
      ]
    },
    {
      "cell_type": "markdown",
      "source": [
        "## Dawid-Skene model"
      ],
      "metadata": {
        "id": "GAQZWyYt0rcO"
      }
    },
    {
      "cell_type": "code",
      "source": [
        "def annotation_to_count(annotations):\n",
        "  instances = annotations.shape[1]\n",
        "  # print(instances)\n",
        "  labelers = annotations.shape[0]\n",
        "  # print(labelers)\n",
        "  # first determine number of classes\n",
        "  classes = 10\n",
        "\n",
        "  # initialize count array = [instances x labelers x classes]\n",
        "  counts = np.zeros([instances, labelers, classes])\n",
        "  # print(counts.shape)\n",
        "  for n in range(instances):\n",
        "    for l in range(labelers):\n",
        "      vote = annotations[l,n]\n",
        "      counts[n,l,vote] +=1\n",
        "  return instances, labelers, classes, counts\n",
        "\n",
        "def initialize_estimates(counts):\n",
        "  \"\"\"\n",
        "  Formula 3.1 in Dawid-Skene (1979) to obtain true instance classes based on counts\n",
        "  \"\"\"\n",
        "  [instances, labelers, classes] = np.shape(counts)\n",
        "\n",
        "  instance_classes = np.zeros([instances, classes])\n",
        "  sum_labelers = np.sum(counts,1)\n",
        "\n",
        "  for n in range(instances):\n",
        "    instance_classes[n,:] = sum_labelers[n,:] / np.sum(sum_labelers[n,:], dtype = float)\n",
        "  return instance_classes\n",
        "\n",
        "\n"
      ],
      "metadata": {
        "id": "B654TBURGkfq"
      },
      "execution_count": 29,
      "outputs": []
    },
    {
      "cell_type": "markdown",
      "source": [
        "We start by implementing the EM algorithm"
      ],
      "metadata": {
        "id": "PpTABVR4Fsj7"
      }
    },
    {
      "cell_type": "code",
      "source": [
        "def m_step(counts, instance_classes):\n",
        "  (dim_instances, dim_labelers, dim_classes) = counts.shape\n",
        "  # calculate class marginals\n",
        "  class_marginals = np.sum(instance_classes,0)/float(dim_instances)\n",
        "\n",
        "  # initialize pi (error rates)\n",
        "  error_rates = np.zeros([dim_labelers, dim_classes, dim_classes])\n",
        "\n",
        "  # compute error rates\n",
        "  for k in range(dim_labelers):\n",
        "    for j in range(dim_classes):\n",
        "      for l in range(dim_classes):\n",
        "        error_rates[k, j, l] = np.dot(instance_classes[:,j], counts[:,k,l])\n",
        "      normalizing_term = np.sum(error_rates[k,j,:])\n",
        "      error_rates[k,j,:] /= float(normalizing_term)\n",
        "\n",
        "  return error_rates, class_marginals\n",
        "\n",
        "def e_step(counts, class_marginals, error_rates):\n",
        "  # initialize instance_classes (the soft assignment of t_{n,k})\n",
        "  (dim_instances, dim_labelers, dim_classes) = counts.shape\n",
        "\n",
        "  instance_classes = np.zeros([dim_instances, dim_classes])\n",
        "\n",
        "  for i in range(dim_instances):\n",
        "    for j in range(dim_classes):\n",
        "      instance_classes[i,j] = class_marginals[j] * np.prod(np.power(error_rates[:,j,:],\n",
        "                                                           counts[i,:,:]))\n",
        "    normalizing_term = np.sum(instance_classes[i,:])\n",
        "    instance_classes[i,:] /= float(normalizing_term)\n",
        "  return instance_classes"
      ],
      "metadata": {
        "id": "HUCTpnRvFrRN"
      },
      "execution_count": 6,
      "outputs": []
    },
    {
      "cell_type": "code",
      "source": [
        "def run(annotations, max_tol = 0.00001, max_iter = 100):\n",
        "  converged = False\n",
        "  instances, labelers, classes, counts = annotation_to_count(annotations)\n",
        "\n",
        "  # initialize instance_classes\n",
        "  instance_classes = initialize_estimates(counts)\n",
        "  iter = 0\n",
        "  prev_class_marginals = None\n",
        "  prev_error_rates = None\n",
        "\n",
        "  # perform EM algorithm till convergens\n",
        "  while not converged:\n",
        "    iter +=1\n",
        "\n",
        "    #M-step\n",
        "    error_rates, class_marginals = m_step(counts, instance_classes)\n",
        "\n",
        "    #E-step\n",
        "    instance_classes = e_step(counts, class_marginals, error_rates)\n",
        "\n",
        "    #convergence check, either difference between prev and current smaller than tol,\n",
        "    # or we reached the max_iter\n",
        "    if prev_class_marginals is not None:\n",
        "      diff_marginals = np.sum(np.abs(class_marginals - prev_class_marginals))\n",
        "      diff_error =  np.sum(np.abs(error_rates - prev_error_rates))\n",
        "      # print(f'[iteration: {iter}, difference marginals: {diff_marginals}, difference error rates: {diff_error} ]')\n",
        "      if(diff_marginals < max_tol and diff_error< max_tol) or iter > max_iter:\n",
        "          converged = True\n",
        "\n",
        "    # update the class_marginals and error_ratees\n",
        "    prev_class_marginals = class_marginals\n",
        "    prev_error_rates = error_rates\n",
        "\n",
        "  return instance_classes\n"
      ],
      "metadata": {
        "id": "cki5O9mBogw4"
      },
      "execution_count": 7,
      "outputs": []
    },
    {
      "cell_type": "code",
      "source": [
        "np.random.seed(42)\n",
        "torch.manual_seed(42)\n",
        "\n",
        "# Assuming you want a subset of the data\n",
        "mnist_labels = trainset.targets.numpy()\n",
        "\n",
        "\n",
        "subset_size = 1000\n",
        "indices = np.random.choice(len(mnist_labels), size=subset_size, replace=False)\n",
        "true_labels = mnist_labels[indices]\n",
        "\n",
        "num_labelers = 5\n",
        "num_spammers = 3\n",
        "num_instances = len(true_labels)\n",
        "simulated_labels = simulate_labels_per_labeler(true_labels, num_labelers, num_spammers)\n",
        "\n",
        "\n",
        "instance_classes = run(simulated_labels, max_tol = 0.001, max_iter = 100)"
      ],
      "metadata": {
        "colab": {
          "base_uri": "https://localhost:8080/"
        },
        "id": "k2rklKOExUDD",
        "outputId": "d0e7af25-1108-48fa-d928-7d524e6da385"
      },
      "execution_count": 12,
      "outputs": [
        {
          "output_type": "stream",
          "name": "stderr",
          "text": [
            "<ipython-input-5-cb378c04e1c9>:4: DeprecationWarning: `np.int` is a deprecated alias for the builtin `int`. To silence this warning, use `int` by itself. Doing this will not modify any behavior and is safe. When replacing `np.int`, you may wish to use e.g. `np.int64` or `np.int32` to specify the precision. If you wish to review your current use, check the release note link for additional information.\n",
            "Deprecated in NumPy 1.20; for more details and guidance: https://numpy.org/devdocs/release/1.20.0-notes.html#deprecations\n",
            "  simulated_labels = np.zeros((num_labelers, num_instances), dtype = np.int)\n",
            "<ipython-input-5-cb378c04e1c9>:7: DeprecationWarning: `np.int` is a deprecated alias for the builtin `int`. To silence this warning, use `int` by itself. Doing this will not modify any behavior and is safe. When replacing `np.int`, you may wish to use e.g. `np.int64` or `np.int32` to specify the precision. If you wish to review your current use, check the release note link for additional information.\n",
            "Deprecated in NumPy 1.20; for more details and guidance: https://numpy.org/devdocs/release/1.20.0-notes.html#deprecations\n",
            "  spammer_labels = np.full((num_spammers,num_instances), spammer_label, dtype=np.int)\n"
          ]
        },
        {
          "output_type": "stream",
          "name": "stdout",
          "text": [
            "(3, 1000)\n",
            "(3, 1000)\n",
            "[iteration: 2, difference marginals: 0.5790242607765013, difference error rates: 3.1181082624249363 ]\n",
            "[iteration: 3, difference marginals: 0.1734156163631152, difference error rates: 0.5495580144197117 ]\n",
            "[iteration: 4, difference marginals: 0.052745236615393445, difference error rates: 0.5475123536765639 ]\n",
            "[iteration: 5, difference marginals: 0.0428553967444603, difference error rates: 0.605844938049584 ]\n",
            "[iteration: 6, difference marginals: 0.03790447889489214, difference error rates: 0.5645112283230312 ]\n",
            "[iteration: 7, difference marginals: 0.032761097751784596, difference error rates: 0.513709667134294 ]\n",
            "[iteration: 8, difference marginals: 0.028455378985526636, difference error rates: 0.4712300918638874 ]\n",
            "[iteration: 9, difference marginals: 0.023799428458713204, difference error rates: 0.4172499288676287 ]\n",
            "[iteration: 10, difference marginals: 0.01822400634622777, difference error rates: 0.33765150524116416 ]\n",
            "[iteration: 11, difference marginals: 0.012101218252089749, difference error rates: 0.23672198253122176 ]\n",
            "[iteration: 12, difference marginals: 0.006831691524781039, difference error rates: 0.14096883191754023 ]\n",
            "[iteration: 13, difference marginals: 0.0034724055509097046, difference error rates: 0.07692846374730576 ]\n",
            "[iteration: 14, difference marginals: 0.0017334819598825157, difference error rates: 0.04358325490355139 ]\n",
            "[iteration: 15, difference marginals: 0.0010839138243889102, difference error rates: 0.027210143837069142 ]\n",
            "[iteration: 16, difference marginals: 0.000798029816672402, difference error rates: 0.01972894236486293 ]\n",
            "[iteration: 17, difference marginals: 0.0006709353722751249, difference error rates: 0.016302037656062356 ]\n",
            "[iteration: 18, difference marginals: 0.0006083510974241729, difference error rates: 0.014728211940292621 ]\n",
            "[iteration: 19, difference marginals: 0.0005755167682393869, difference error rates: 0.013942559389906212 ]\n",
            "[iteration: 20, difference marginals: 0.0005558559211202158, difference error rates: 0.013518482083995849 ]\n",
            "[iteration: 21, difference marginals: 0.0005419421610219355, difference error rates: 0.013234983768547523 ]\n",
            "[iteration: 22, difference marginals: 0.0005305559431321022, difference error rates: 0.013005575220462967 ]\n",
            "[iteration: 23, difference marginals: 0.0005203275369510402, difference error rates: 0.012800927355326844 ]\n",
            "[iteration: 24, difference marginals: 0.0005106813698461943, difference error rates: 0.012608115688185834 ]\n",
            "[iteration: 25, difference marginals: 0.000501377844488407, difference error rates: 0.012422230077744689 ]\n",
            "[iteration: 26, difference marginals: 0.0004923179927235205, difference error rates: 0.012245055692365933 ]\n",
            "[iteration: 27, difference marginals: 0.00048346113811635616, difference error rates: 0.012073237373726786 ]\n",
            "[iteration: 28, difference marginals: 0.00047479047895913895, difference error rates: 0.011904512945913113 ]\n",
            "[iteration: 29, difference marginals: 0.00046629880378014354, difference error rates: 0.011738788787474037 ]\n",
            "[iteration: 30, difference marginals: 0.00045798260785691325, difference error rates: 0.011576038591492897 ]\n",
            "[iteration: 31, difference marginals: 0.00044983969624705356, difference error rates: 0.01141625193649161 ]\n",
            "[iteration: 32, difference marginals: 0.0004418682265677071, difference error rates: 0.01125942671163675 ]\n",
            "[iteration: 33, difference marginals: 0.00043406634293607915, difference error rates: 0.011105558786544005 ]\n",
            "[iteration: 34, difference marginals: 0.0004264320504670238, difference error rates: 0.010954639796080993 ]\n",
            "[iteration: 35, difference marginals: 0.00041896318622350326, difference error rates: 0.010806656648979767 ]\n",
            "[iteration: 36, difference marginals: 0.00041165742735130295, difference error rates: 0.010661632724598226 ]\n",
            "[iteration: 37, difference marginals: 0.00040451231243139596, difference error rates: 0.010519520924671698 ]\n",
            "[iteration: 38, difference marginals: 0.0003975252662875711, difference error rates: 0.010380280363383012 ]\n",
            "[iteration: 39, difference marginals: 0.000390693624443203, difference error rates: 0.010243882565652538 ]\n",
            "[iteration: 40, difference marginals: 0.00038401465590605366, difference error rates: 0.010110296341971171 ]\n",
            "[iteration: 41, difference marginals: 0.00037748558370356844, difference error rates: 0.0099795199760393 ]\n",
            "[iteration: 42, difference marginals: 0.00037110360329109526, difference error rates: 0.009851488686048718 ]\n",
            "[iteration: 43, difference marginals: 0.0003648658988360254, difference error rates: 0.009726164036216324 ]\n",
            "[iteration: 44, difference marginals: 0.00035876965754132184, difference error rates: 0.009603507798236809 ]\n",
            "[iteration: 45, difference marginals: 0.00035281208224821614, difference error rates: 0.009483480740671558 ]\n",
            "[iteration: 46, difference marginals: 0.00034699040239569157, difference error rates: 0.009366042873720157 ]\n",
            "[iteration: 47, difference marginals: 0.00034130188357311964, difference error rates: 0.009251162545891629 ]\n",
            "[iteration: 48, difference marginals: 0.00033574383574182243, difference error rates: 0.009138794707028983 ]\n",
            "[iteration: 49, difference marginals: 0.00033031362031349376, difference error rates: 0.009028893320243423 ]\n",
            "[iteration: 50, difference marginals: 0.00032500865616533203, difference error rates: 0.008921417316931642 ]\n",
            "[iteration: 51, difference marginals: 0.00031982642475791856, difference error rates: 0.00881634454120483 ]\n",
            "[iteration: 52, difference marginals: 0.00031476447435438426, difference error rates: 0.008713616979577694 ]\n",
            "[iteration: 53, difference marginals: 0.00030982042356836326, difference error rates: 0.008613193157311932 ]\n",
            "[iteration: 54, difference marginals: 0.00030499196418834473, difference error rates: 0.008515033175292931 ]\n",
            "[iteration: 55, difference marginals: 0.00030027686344499815, difference error rates: 0.008419097657596412 ]\n",
            "[iteration: 56, difference marginals: 0.0002956729657574153, difference error rates: 0.008325347823086051 ]\n",
            "[iteration: 57, difference marginals: 0.00029117819397288247, difference error rates: 0.008233745547658176 ]\n",
            "[iteration: 58, difference marginals: 0.0002867905502611373, difference error rates: 0.008144253417923061 ]\n",
            "[iteration: 59, difference marginals: 0.0002825081165646337, difference error rates: 0.008056834777255814 ]\n",
            "[iteration: 60, difference marginals: 0.00027832905478672454, difference error rates: 0.007972046205757324 ]\n",
            "[iteration: 61, difference marginals: 0.0002742516066608497, difference error rates: 0.007889477477654703 ]\n",
            "[iteration: 62, difference marginals: 0.0002702740933554909, difference error rates: 0.007808884590136754 ]\n",
            "[iteration: 63, difference marginals: 0.0002663949148755812, difference error rates: 0.007730611603734389 ]\n",
            "[iteration: 64, difference marginals: 0.000262612549243299, difference error rates: 0.007654937846926623 ]\n",
            "[iteration: 65, difference marginals: 0.00025892555148900043, difference error rates: 0.007581170840396683 ]\n",
            "[iteration: 66, difference marginals: 0.0002553325525119915, difference error rates: 0.00750926176436141 ]\n",
            "[iteration: 67, difference marginals: 0.00025183225773589557, difference error rates: 0.007439201568553501 ]\n",
            "[iteration: 68, difference marginals: 0.0002484234456767431, difference error rates: 0.007370943193413436 ]\n",
            "[iteration: 69, difference marginals: 0.0002451049663683147, difference error rates: 0.007304505456598835 ]\n",
            "[iteration: 70, difference marginals: 0.0002418757396638327, difference error rates: 0.007239866191437876 ]\n",
            "[iteration: 71, difference marginals: 0.00023873475343846873, difference error rates: 0.007176945599528283 ]\n",
            "[iteration: 72, difference marginals: 0.00023568106167524971, difference error rates: 0.007115730516664191 ]\n",
            "[iteration: 73, difference marginals: 0.00023271378246496333, difference error rates: 0.007056196876038852 ]\n",
            "[iteration: 74, difference marginals: 0.00022983209589168274, difference error rates: 0.0069983105425391046 ]\n",
            "[iteration: 75, difference marginals: 0.00022703524182896007, difference error rates: 0.006942049377757368 ]\n",
            "[iteration: 76, difference marginals: 0.00022432251764242794, difference error rates: 0.006887392068785875 ]\n",
            "[iteration: 77, difference marginals: 0.00022169327578147602, difference error rates: 0.006834318105895512 ]\n",
            "[iteration: 78, difference marginals: 0.00021914692129033908, difference error rates: 0.006782807757853815 ]\n",
            "[iteration: 79, difference marginals: 0.00021668290917563338, difference error rates: 0.006732842044819576 ]\n",
            "[iteration: 80, difference marginals: 0.00021430074173177383, difference error rates: 0.00668440270883255 ]\n",
            "[iteration: 81, difference marginals: 0.00021199996569669366, difference error rates: 0.0066374721818930685 ]\n",
            "[iteration: 82, difference marginals: 0.0002097801693335538, difference error rates: 0.006592033551564057 ]\n",
            "[iteration: 83, difference marginals: 0.00020764097936533388, difference error rates: 0.006548070524097647 ]\n",
            "[iteration: 84, difference marginals: 0.0002055820578251294, difference error rates: 0.006505567385020382 ]\n",
            "[iteration: 85, difference marginals: 0.00020360309874169202, difference error rates: 0.00646450938416473 ]\n",
            "[iteration: 86, difference marginals: 0.0002017038247294628, difference error rates: 0.006424881453646699 ]\n",
            "[iteration: 87, difference marginals: 0.000199883983405591, difference error rates: 0.006386669302707733 ]\n",
            "[iteration: 88, difference marginals: 0.00019814334373549625, difference error rates: 0.0063499995073365385 ]\n",
            "[iteration: 89, difference marginals: 0.00019648169214218913, difference error rates: 0.006314855685649745 ]\n",
            "[iteration: 90, difference marginals: 0.00019489882857587348, difference error rates: 0.006281081493018481 ]\n",
            "[iteration: 91, difference marginals: 0.00019339456237783825, difference error rates: 0.0062486642691619975 ]\n",
            "[iteration: 92, difference marginals: 0.00019196870800555765, difference error rates: 0.006217591514458186 ]\n",
            "[iteration: 93, difference marginals: 0.00019062108064976657, difference error rates: 0.006187850826537916 ]\n",
            "[iteration: 94, difference marginals: 0.00018935149166189602, difference error rates: 0.006159501364712958 ]\n",
            "[iteration: 95, difference marginals: 0.000188159743908331, difference error rates: 0.006132472311881416 ]\n",
            "[iteration: 96, difference marginals: 0.00018704562691142235, difference error rates: 0.0061067373247121245 ]\n",
            "[iteration: 97, difference marginals: 0.00018600891196128566, difference error rates: 0.00608235841408699 ]\n",
            "[iteration: 98, difference marginals: 0.00018504934703592046, difference error rates: 0.006059417799026684 ]\n",
            "[iteration: 99, difference marginals: 0.00018416665164978918, difference error rates: 0.006037728912641984 ]\n",
            "[iteration: 100, difference marginals: 0.00018336051164365152, difference error rates: 0.006017278323436799 ]\n",
            "[iteration: 101, difference marginals: 0.0001826305738490963, difference error rates: 0.005998052093377204 ]\n"
          ]
        }
      ]
    },
    {
      "cell_type": "markdown",
      "source": [
        "## Majority Voting\n"
      ],
      "metadata": {
        "id": "xIB-Dxi9A_gs"
      }
    },
    {
      "cell_type": "code",
      "source": [
        "def majority_voting(simulated_labels):\n",
        " # initialize count array = [instances x labelers x classes]\n",
        " instances, labelers, classes, counts = annotation_to_count(simulated_labels)\n",
        " print(counts.shape)\n",
        " voting = np.argmax(np.sum(counts,1), axis = 1)\n",
        " return voting"
      ],
      "metadata": {
        "id": "098snhZvBCAd"
      },
      "execution_count": 8,
      "outputs": []
    },
    {
      "cell_type": "markdown",
      "source": [
        "### Analysis"
      ],
      "metadata": {
        "id": "DwGl-KsM6h4Z"
      }
    },
    {
      "cell_type": "code",
      "source": [
        "np.random.seed(42)\n",
        "torch.manual_seed(42)\n",
        "\n",
        "# Assuming you want a subset of the data\n",
        "mnist_labels = trainset.targets.numpy()\n",
        "\n",
        "\n",
        "num_instances = 1000\n",
        "indices = np.random.choice(len(mnist_labels), size=num_instances, replace=False)\n",
        "\n",
        "\n",
        "# Data input\n",
        "num_spammers_list = list(range(11))  # 0 to 10 spammers\n",
        "num_labelers = 10\n",
        "true_labels = mnist_labels[indices]\n",
        "num_instances = len(true_labels)\n",
        "\n",
        "# Data structure for storing results (list in list)\n",
        "results_dawid_skene = []\n",
        "results_majority_voting = []\n",
        "\n",
        "# Number of runs per experiment\n",
        "num_runs = 5\n",
        "\n",
        "# simulated_labels = simulate_labels_per_labeler(true_labels, num_labelers, num_spammers, spammer_label = 1, noise_level = 0.1)\n",
        "\n",
        "\n",
        "\n",
        "for num_spammers in num_spammers_list:\n",
        "  # num_spammers = 2\n",
        "  print(f\"Running experiments with {num_spammers} spammers...\")\n",
        "  # Lists to store results for each run\n",
        "  dawid_skene_accuracies = []\n",
        "  majority_voting_accuracies = []\n",
        "  # Run experiments multiple times\n",
        "  for _ in range(num_runs):\n",
        "      # Simulate labels\n",
        "      simulated_labels = simulate_labels_per_labeler(true_labels, num_labelers, num_spammers, spammer_label=1, noise_level=0.3)\n",
        "      # Dawid-Skene\n",
        "      instance_classes_dawid_skene = run(simulated_labels, max_tol=0.00001, max_iter=100)\n",
        "      dawid_skene_accuracy = np.mean(np.argmax(instance_classes_dawid_skene, axis = 1) == true_labels)\n",
        "      dawid_skene_accuracies.append(dawid_skene_accuracy)\n",
        "\n",
        "      # Majority Voting\n",
        "      majority_voting_result = majority_voting(simulated_labels)\n",
        "      majority_voting_accuracy = np.mean(majority_voting_result == true_labels)\n",
        "      majority_voting_accuracies.append(majority_voting_accuracy)\n",
        "\n",
        "  # Save results for this number of spammers\n",
        "  results_dawid_skene.append(dawid_skene_accuracies)\n",
        "  results_majority_voting.append(majority_voting_accuracies)\n",
        "\n",
        "  print(f\"Mean DS accuracy with {num_spammers} = {np.mean(results_dawid_skene[num_spammers]) * 100:.2f}%\")\n",
        "  print(f\"Mean MV accuracy with {num_spammers} = {np.mean(results_majority_voting[num_spammers]) * 100:.2f}%\")\n",
        "\n",
        "\n",
        "# instance_classes = run(simulated_labels, max_tol = 0.001, max_iter = 100)\n"
      ],
      "metadata": {
        "colab": {
          "base_uri": "https://localhost:8080/"
        },
        "id": "TVJZC3gfBSwt",
        "outputId": "5ca152bd-f3aa-48ed-d3ae-920c97022cea"
      },
      "execution_count": 30,
      "outputs": [
        {
          "metadata": {
            "tags": null
          },
          "name": "stdout",
          "output_type": "stream",
          "text": [
            "Running experiments with 0 spammers...\n"
          ]
        },
        {
          "metadata": {
            "tags": null
          },
          "name": "stderr",
          "output_type": "stream",
          "text": [
            "<ipython-input-3-9d2265317d98>:4: DeprecationWarning: `np.int` is a deprecated alias for the builtin `int`. To silence this warning, use `int` by itself. Doing this will not modify any behavior and is safe. When replacing `np.int`, you may wish to use e.g. `np.int64` or `np.int32` to specify the precision. If you wish to review your current use, check the release note link for additional information.\n",
            "Deprecated in NumPy 1.20; for more details and guidance: https://numpy.org/devdocs/release/1.20.0-notes.html#deprecations\n",
            "  simulated_labels = np.zeros((num_labelers, num_instances), dtype = np.int)\n"
          ]
        },
        {
          "metadata": {
            "tags": null
          },
          "name": "stdout",
          "output_type": "stream",
          "text": [
            "(1000, 10, 10)\n",
            "(1000, 10, 10)\n",
            "(1000, 10, 10)\n",
            "(1000, 10, 10)\n",
            "(1000, 10, 10)\n",
            "Mean DS accuracy with 0 = 99.66%\n",
            "Mean MV accuracy with 0 = 99.76%\n",
            "Running experiments with 1 spammers...\n"
          ]
        },
        {
          "metadata": {
            "tags": null
          },
          "name": "stderr",
          "output_type": "stream",
          "text": [
            "<ipython-input-3-9d2265317d98>:7: DeprecationWarning: `np.int` is a deprecated alias for the builtin `int`. To silence this warning, use `int` by itself. Doing this will not modify any behavior and is safe. When replacing `np.int`, you may wish to use e.g. `np.int64` or `np.int32` to specify the precision. If you wish to review your current use, check the release note link for additional information.\n",
            "Deprecated in NumPy 1.20; for more details and guidance: https://numpy.org/devdocs/release/1.20.0-notes.html#deprecations\n",
            "  spammer_labels = np.full((num_spammers,num_instances), spammer_label, dtype=np.int)\n"
          ]
        },
        {
          "output_type": "stream",
          "name": "stdout",
          "text": [
            "(1000, 10, 10)\n",
            "(1000, 10, 10)\n",
            "(1000, 10, 10)\n",
            "(1000, 10, 10)\n",
            "(1000, 10, 10)\n",
            "Mean DS accuracy with 1 = 99.36%\n",
            "Mean MV accuracy with 1 = 99.08%\n",
            "Running experiments with 2 spammers...\n",
            "(1000, 10, 10)\n",
            "(1000, 10, 10)\n",
            "(1000, 10, 10)\n",
            "(1000, 10, 10)\n",
            "(1000, 10, 10)\n",
            "Mean DS accuracy with 2 = 98.66%\n",
            "Mean MV accuracy with 2 = 96.60%\n",
            "Running experiments with 3 spammers...\n",
            "(1000, 10, 10)\n",
            "(1000, 10, 10)\n",
            "(1000, 10, 10)\n",
            "(1000, 10, 10)\n",
            "(1000, 10, 10)\n",
            "Mean DS accuracy with 3 = 97.84%\n",
            "Mean MV accuracy with 3 = 84.12%\n",
            "Running experiments with 4 spammers...\n",
            "(1000, 10, 10)\n",
            "(1000, 10, 10)\n",
            "(1000, 10, 10)\n",
            "(1000, 10, 10)\n",
            "(1000, 10, 10)\n",
            "Mean DS accuracy with 4 = 96.24%\n",
            "Mean MV accuracy with 4 = 48.46%\n",
            "Running experiments with 5 spammers...\n",
            "(1000, 10, 10)\n",
            "(1000, 10, 10)\n",
            "(1000, 10, 10)\n",
            "(1000, 10, 10)\n",
            "(1000, 10, 10)\n",
            "Mean DS accuracy with 5 = 93.76%\n",
            "Mean MV accuracy with 5 = 12.98%\n",
            "Running experiments with 6 spammers...\n",
            "(1000, 10, 10)\n",
            "(1000, 10, 10)\n",
            "(1000, 10, 10)\n",
            "(1000, 10, 10)\n",
            "(1000, 10, 10)\n",
            "Mean DS accuracy with 6 = 89.56%\n",
            "Mean MV accuracy with 6 = 11.00%\n",
            "Running experiments with 7 spammers...\n",
            "(1000, 10, 10)\n",
            "(1000, 10, 10)\n",
            "(1000, 10, 10)\n",
            "(1000, 10, 10)\n",
            "(1000, 10, 10)\n",
            "Mean DS accuracy with 7 = 83.76%\n",
            "Mean MV accuracy with 7 = 11.00%\n",
            "Running experiments with 8 spammers...\n",
            "(1000, 10, 10)\n",
            "(1000, 10, 10)\n",
            "(1000, 10, 10)\n",
            "(1000, 10, 10)\n",
            "(1000, 10, 10)\n",
            "Mean DS accuracy with 8 = 68.92%\n",
            "Mean MV accuracy with 8 = 11.00%\n",
            "Running experiments with 9 spammers...\n",
            "(1000, 10, 10)\n",
            "(1000, 10, 10)\n",
            "(1000, 10, 10)\n",
            "(1000, 10, 10)\n",
            "(1000, 10, 10)\n",
            "Mean DS accuracy with 9 = 11.00%\n",
            "Mean MV accuracy with 9 = 11.00%\n",
            "Running experiments with 10 spammers...\n"
          ]
        },
        {
          "output_type": "stream",
          "name": "stderr",
          "text": [
            "<ipython-input-6-28b6c7437969>:15: RuntimeWarning: invalid value encountered in divide\n",
            "  error_rates[k,j,:] /= float(normalizing_term)\n"
          ]
        },
        {
          "output_type": "stream",
          "name": "stdout",
          "text": [
            "(1000, 10, 10)\n",
            "(1000, 10, 10)\n",
            "(1000, 10, 10)\n",
            "(1000, 10, 10)\n",
            "(1000, 10, 10)\n",
            "Mean DS accuracy with 10 = 11.10%\n",
            "Mean MV accuracy with 10 = 11.00%\n"
          ]
        }
      ]
    },
    {
      "cell_type": "code",
      "source": [
        "# results_dawid_skene\n",
        "accuracy_dawid_skene_mean = [0.9966, 0.9936, 0.9866, 0.9784, 0.9624, 0.9376, 0.8956, 0.8376, 0.6892, 0.11,\n",
        " 0.111 ]\n",
        "# accuracy_dawid_skene_mean = np.mean(results_dawid_skene, axis = 1 )\n",
        "# print(accuracy_dawid_skene_mean)\n",
        "accuracy_dawid_skene_std = [1.01980390e-03, 2.87054002e-03, 2.65329983e-03, 3.13687743e-03,\n",
        " 4.07921561e-03, 4.49888875e-03, 9.85088828e-03, 4.54312668e-03,\n",
        " 8.65794433e-03, 1.38777878e-17, 1.38777878e-17]\n",
        "# np.std(results_dawid_skene, axis = 1)\n",
        "print(accuracy_dawid_skene_std)"
      ],
      "metadata": {
        "colab": {
          "base_uri": "https://localhost:8080/"
        },
        "id": "hGxOAILgIErk",
        "outputId": "94571f32-6ee4-471a-e418-c99cea1c14bb"
      },
      "execution_count": 5,
      "outputs": [
        {
          "output_type": "stream",
          "name": "stdout",
          "text": [
            "[0.0010198039, 0.00287054002, 0.00265329983, 0.00313687743, 0.00407921561, 0.00449888875, 0.00985088828, 0.00454312668, 0.00865794433, 1.38777878e-17, 1.38777878e-17]\n"
          ]
        }
      ]
    },
    {
      "cell_type": "code",
      "source": [
        "results_majority_voting = [[0.997, 0.998, 0.997, 0.999, 0.997],\n",
        " [0.99, 0.994, 0.989, 0.988, 0.993],\n",
        " [0.973, 0.972, 0.961, 0.954, 0.97],\n",
        " [0.858, 0.832, 0.838, 0.847, 0.831],\n",
        " [0.506, 0.494, 0.477, 0.471, 0.475],\n",
        " [0.134, 0.128, 0.128, 0.131, 0.128],\n",
        " [0.11, 0.11, 0.11, 0.11, 0.11],\n",
        " [0.11, 0.11, 0.11, 0.11, 0.11],\n",
        " [0.11, 0.11, 0.11, 0.11, 0.11],\n",
        " [0.11, 0.11, 0.11, 0.11, 0.11],\n",
        " [0.11, 0.11, 0.11, 0.11, 0.11]]\n",
        "\n",
        "accuracy_majority_voting_mean = np.mean(results_majority_voting, axis = 1 )\n",
        "print(accuracy_majority_voting_mean)\n",
        "accuracy_majority_voting_std = np.std(results_majority_voting, axis = 1 )"
      ],
      "metadata": {
        "colab": {
          "base_uri": "https://localhost:8080/"
        },
        "id": "wbMlNPfK7sOc",
        "outputId": "38849f25-c34e-4760-868a-667ecc136014"
      },
      "execution_count": 10,
      "outputs": [
        {
          "output_type": "stream",
          "name": "stdout",
          "text": [
            "[0.9976 0.9908 0.966  0.8412 0.4846 0.1298 0.11   0.11   0.11   0.11\n",
            " 0.11  ]\n"
          ]
        }
      ]
    },
    {
      "cell_type": "code",
      "source": [
        "# Replace these lists with your actual data\n",
        "num_spammers = list(range(11))\n",
        "# accuracy_majority_voting_mean = [0.90, 0.85, 0.80, 0.75, 0.70]\n",
        "# accuracy_majority_voting_std = [0.02, 0.03, 0.04, 0.02, 0.03]  # Example standard deviation data\n",
        "# accuracy_dawid_skene_mean = [0.92, 0.88, 0.85, 0.78, 0.72]\n",
        "# accuracy_dawid_skene_std = [0.01, 0.02, 0.03, 0.02, 0.01]  # Example standard deviation data\n",
        "\n",
        "plt.errorbar(num_spammers, accuracy_majority_voting_mean, yerr=accuracy_majority_voting_std, label='Majority Voting', marker='o')\n",
        "plt.errorbar(num_spammers, accuracy_dawid_skene_mean, yerr=accuracy_dawid_skene_std, label='Dawid-Skene', marker='s')\n",
        "\n",
        "plt.xlabel('Number of Spammers')\n",
        "plt.ylabel('Accuracy')\n",
        "plt.title('Effect of Spammers on Dawid-Skene and Majority Voting')\n",
        "plt.legend()\n",
        "plt.show()"
      ],
      "metadata": {
        "colab": {
          "base_uri": "https://localhost:8080/",
          "height": 472
        },
        "id": "LYykcFdQ6jvb",
        "outputId": "1224ea73-5a72-4cee-f520-c9d3b5987099"
      },
      "execution_count": 11,
      "outputs": [
        {
          "output_type": "display_data",
          "data": {
            "text/plain": [
              "<Figure size 640x480 with 1 Axes>"
            ],
            "image/png": "[encoded data removed]"
          },
          "metadata": {}
        }
      ]
    },
    {
      "cell_type": "code",
      "source": [
        "import numpy as np\n",
        "import matplotlib.pyplot as plt\n",
        "\n",
        "# Replace these lists with your actual data\n",
        "num_spammers = list(range(11))\n",
        "accuracy_majority_voting_all_runs = results_majority_voting\n",
        "accuracy_dawid_skene_all_runs = results_dawid_skene\n",
        "\n",
        "# Set colors for boxplots\n",
        "majority_voting_color = 'lightblue'\n",
        "dawid_skene_color = 'orange'\n",
        "\n",
        "plt.boxplot(accuracy_majority_voting_all_runs, positions=np.array(num_spammers) - 0.2, widths=0.4, showfliers=False, patch_artist=True, boxprops=dict(facecolor=majority_voting_color))\n",
        "plt.boxplot(accuracy_dawid_skene_all_runs, positions=np.array(num_spammers) + 0.2, widths=0.4, showfliers=False, patch_artist=True, boxprops=dict(facecolor=dawid_skene_color))\n",
        "\n",
        "plt.xlabel('Number of Spammers')\n",
        "plt.ylabel('Accuracy')\n",
        "plt.title('Effect of Spammers on Dawid-Skene and Majority Voting')\n",
        "plt.xticks(num_spammers, num_spammers)\n",
        "plt.legend(['Majority Voting', 'Dawid-Skene'])\n",
        "\n",
        "plt.show()"
      ],
      "metadata": {
        "colab": {
          "base_uri": "https://localhost:8080/",
          "height": 472
        },
        "id": "FSsnRBjP6zzE",
        "outputId": "92f9a312-0859-4ea8-fd98-c2ed3e54d09f"
      },
      "execution_count": 41,
      "outputs": [
        {
          "output_type": "display_data",
          "data": {
            "text/plain": [
              "<Figure size 640x480 with 1 Axes>"
            ],
            "image/png": "[encoded data removed]"
          },
          "metadata": {}
        }
      ]
    },
    {
      "cell_type": "code",
      "source": [
        "print(np.argmax(instance_classes[0]))\n",
        "print(true_labels[0])\n",
        "# Calculate percentage difference and create binary matrix\n",
        "simulated_labels_first = simulated_labels[2]\n",
        "different_entries, percentage_difference = calculate_percentage_difference(simulated_labels_first, true_labels)\n",
        "\n",
        "# Print percentage difference\n",
        "print(f\"Percentage of different values: {percentage_difference:.2f}%\")"
      ],
      "metadata": {
        "colab": {
          "base_uri": "https://localhost:8080/"
        },
        "id": "MxFymhjYEGUl",
        "outputId": "83d772d1-5716-46a3-9d74-d025f5191540"
      },
      "execution_count": null,
      "outputs": [
        {
          "output_type": "stream",
          "name": "stdout",
          "text": [
            "7\n",
            "7\n",
            "Percentage of different values: 89.00%\n"
          ]
        }
      ]
    }
  ]
}